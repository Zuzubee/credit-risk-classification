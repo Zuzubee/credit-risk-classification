{
 "cells": [
  {
   "cell_type": "code",
   "execution_count": 1,
   "metadata": {},
   "outputs": [],
   "source": [
    "# Import the modules\n",
    "\n",
    "import numpy  as np\n",
    "import pandas as pd\n",
    "\n",
    "from pathlib         import Path\n",
    "from sklearn.metrics import accuracy_score, balanced_accuracy_score, confusion_matrix, classification_report"
   ]
  },
  {
   "cell_type": "markdown",
   "metadata": {},
   "source": [
    "---"
   ]
  },
  {
   "cell_type": "markdown",
   "metadata": {},
   "source": [
    "## Split the Data into Training and Testing Sets"
   ]
  },
  {
   "cell_type": "markdown",
   "metadata": {},
   "source": [
    "### Step 1: Read the `lending_data.csv` data from the `Resources` folder into a Pandas DataFrame."
   ]
  },
  {
   "cell_type": "code",
   "execution_count": 2,
   "metadata": {},
   "outputs": [
    {
     "data": {
      "text/html": [
       "<div>\n",
       "<style scoped>\n",
       "    .dataframe tbody tr th:only-of-type {\n",
       "        vertical-align: middle;\n",
       "    }\n",
       "\n",
       "    .dataframe tbody tr th {\n",
       "        vertical-align: top;\n",
       "    }\n",
       "\n",
       "    .dataframe thead th {\n",
       "        text-align: right;\n",
       "    }\n",
       "</style>\n",
       "<table border=\"1\" class=\"dataframe\">\n",
       "  <thead>\n",
       "    <tr style=\"text-align: right;\">\n",
       "      <th></th>\n",
       "      <th>loan_size</th>\n",
       "      <th>interest_rate</th>\n",
       "      <th>borrower_income</th>\n",
       "      <th>debt_to_income</th>\n",
       "      <th>num_of_accounts</th>\n",
       "      <th>derogatory_marks</th>\n",
       "      <th>total_debt</th>\n",
       "      <th>loan_status</th>\n",
       "    </tr>\n",
       "  </thead>\n",
       "  <tbody>\n",
       "    <tr>\n",
       "      <th>43735</th>\n",
       "      <td>7900.0</td>\n",
       "      <td>6.485</td>\n",
       "      <td>41600</td>\n",
       "      <td>0.278846</td>\n",
       "      <td>2</td>\n",
       "      <td>0</td>\n",
       "      <td>11600</td>\n",
       "      <td>0</td>\n",
       "    </tr>\n",
       "    <tr>\n",
       "      <th>7789</th>\n",
       "      <td>10500.0</td>\n",
       "      <td>7.607</td>\n",
       "      <td>52200</td>\n",
       "      <td>0.425287</td>\n",
       "      <td>4</td>\n",
       "      <td>1</td>\n",
       "      <td>22200</td>\n",
       "      <td>0</td>\n",
       "    </tr>\n",
       "    <tr>\n",
       "      <th>10760</th>\n",
       "      <td>10100.0</td>\n",
       "      <td>7.430</td>\n",
       "      <td>50500</td>\n",
       "      <td>0.405941</td>\n",
       "      <td>4</td>\n",
       "      <td>1</td>\n",
       "      <td>20500</td>\n",
       "      <td>0</td>\n",
       "    </tr>\n",
       "    <tr>\n",
       "      <th>73493</th>\n",
       "      <td>9500.0</td>\n",
       "      <td>7.169</td>\n",
       "      <td>48100</td>\n",
       "      <td>0.376299</td>\n",
       "      <td>4</td>\n",
       "      <td>0</td>\n",
       "      <td>18100</td>\n",
       "      <td>0</td>\n",
       "    </tr>\n",
       "    <tr>\n",
       "      <th>49005</th>\n",
       "      <td>8600.0</td>\n",
       "      <td>6.776</td>\n",
       "      <td>44400</td>\n",
       "      <td>0.324324</td>\n",
       "      <td>3</td>\n",
       "      <td>0</td>\n",
       "      <td>14400</td>\n",
       "      <td>0</td>\n",
       "    </tr>\n",
       "    <tr>\n",
       "      <th>39030</th>\n",
       "      <td>10100.0</td>\n",
       "      <td>7.414</td>\n",
       "      <td>50400</td>\n",
       "      <td>0.404762</td>\n",
       "      <td>4</td>\n",
       "      <td>1</td>\n",
       "      <td>20400</td>\n",
       "      <td>0</td>\n",
       "    </tr>\n",
       "    <tr>\n",
       "      <th>9743</th>\n",
       "      <td>10700.0</td>\n",
       "      <td>7.677</td>\n",
       "      <td>52800</td>\n",
       "      <td>0.431818</td>\n",
       "      <td>5</td>\n",
       "      <td>1</td>\n",
       "      <td>22800</td>\n",
       "      <td>0</td>\n",
       "    </tr>\n",
       "    <tr>\n",
       "      <th>56241</th>\n",
       "      <td>10200.0</td>\n",
       "      <td>7.480</td>\n",
       "      <td>51000</td>\n",
       "      <td>0.411765</td>\n",
       "      <td>4</td>\n",
       "      <td>1</td>\n",
       "      <td>21000</td>\n",
       "      <td>0</td>\n",
       "    </tr>\n",
       "    <tr>\n",
       "      <th>30577</th>\n",
       "      <td>8600.0</td>\n",
       "      <td>6.799</td>\n",
       "      <td>44600</td>\n",
       "      <td>0.327354</td>\n",
       "      <td>3</td>\n",
       "      <td>0</td>\n",
       "      <td>14600</td>\n",
       "      <td>0</td>\n",
       "    </tr>\n",
       "    <tr>\n",
       "      <th>60206</th>\n",
       "      <td>11400.0</td>\n",
       "      <td>7.956</td>\n",
       "      <td>55500</td>\n",
       "      <td>0.459459</td>\n",
       "      <td>5</td>\n",
       "      <td>1</td>\n",
       "      <td>25500</td>\n",
       "      <td>0</td>\n",
       "    </tr>\n",
       "  </tbody>\n",
       "</table>\n",
       "</div>"
      ],
      "text/plain": [
       "       loan_size  interest_rate  borrower_income  debt_to_income  \\\n",
       "43735     7900.0          6.485            41600        0.278846   \n",
       "7789     10500.0          7.607            52200        0.425287   \n",
       "10760    10100.0          7.430            50500        0.405941   \n",
       "73493     9500.0          7.169            48100        0.376299   \n",
       "49005     8600.0          6.776            44400        0.324324   \n",
       "39030    10100.0          7.414            50400        0.404762   \n",
       "9743     10700.0          7.677            52800        0.431818   \n",
       "56241    10200.0          7.480            51000        0.411765   \n",
       "30577     8600.0          6.799            44600        0.327354   \n",
       "60206    11400.0          7.956            55500        0.459459   \n",
       "\n",
       "       num_of_accounts  derogatory_marks  total_debt  loan_status  \n",
       "43735                2                 0       11600            0  \n",
       "7789                 4                 1       22200            0  \n",
       "10760                4                 1       20500            0  \n",
       "73493                4                 0       18100            0  \n",
       "49005                3                 0       14400            0  \n",
       "39030                4                 1       20400            0  \n",
       "9743                 5                 1       22800            0  \n",
       "56241                4                 1       21000            0  \n",
       "30577                3                 0       14600            0  \n",
       "60206                5                 1       25500            0  "
      ]
     },
     "execution_count": 2,
     "metadata": {},
     "output_type": "execute_result"
    }
   ],
   "source": [
    "# Read the CSV file from the Resources folder into a Pandas DataFrame\n",
    "data = pd.read_csv(r'Resources/lending_data.csv')\n",
    "\n",
    "\n",
    "# Review the DataFrame\n",
    "data.sample(10, random_state = 123)"
   ]
  },
  {
   "cell_type": "markdown",
   "metadata": {},
   "source": [
    "### Step 2: Create the labels set (`y`)  from the “loan_status” column, and then create the features (`X`) DataFrame from the remaining columns."
   ]
  },
  {
   "cell_type": "code",
   "execution_count": 3,
   "metadata": {},
   "outputs": [],
   "source": [
    "# Separate the data into labels and features\n",
    "\n",
    "# Separate the y variable, the labels\n",
    "y = data.loan_status\n",
    "\n",
    "# Separate the X variable, the features\n",
    "X = data.iloc[:, :-1]"
   ]
  },
  {
   "cell_type": "code",
   "execution_count": 4,
   "metadata": {},
   "outputs": [
    {
     "data": {
      "text/plain": [
       "0    0\n",
       "1    0\n",
       "2    0\n",
       "3    0\n",
       "4    0\n",
       "5    0\n",
       "6    0\n",
       "7    0\n",
       "8    0\n",
       "9    0\n",
       "Name: loan_status, dtype: int64"
      ]
     },
     "execution_count": 4,
     "metadata": {},
     "output_type": "execute_result"
    }
   ],
   "source": [
    "# Review the y variable Series\n",
    "\n",
    "y[:10]"
   ]
  },
  {
   "cell_type": "code",
   "execution_count": 5,
   "metadata": {},
   "outputs": [
    {
     "data": {
      "text/html": [
       "<div>\n",
       "<style scoped>\n",
       "    .dataframe tbody tr th:only-of-type {\n",
       "        vertical-align: middle;\n",
       "    }\n",
       "\n",
       "    .dataframe tbody tr th {\n",
       "        vertical-align: top;\n",
       "    }\n",
       "\n",
       "    .dataframe thead th {\n",
       "        text-align: right;\n",
       "    }\n",
       "</style>\n",
       "<table border=\"1\" class=\"dataframe\">\n",
       "  <thead>\n",
       "    <tr style=\"text-align: right;\">\n",
       "      <th></th>\n",
       "      <th>loan_size</th>\n",
       "      <th>interest_rate</th>\n",
       "      <th>borrower_income</th>\n",
       "      <th>debt_to_income</th>\n",
       "      <th>num_of_accounts</th>\n",
       "      <th>derogatory_marks</th>\n",
       "      <th>total_debt</th>\n",
       "    </tr>\n",
       "  </thead>\n",
       "  <tbody>\n",
       "    <tr>\n",
       "      <th>43735</th>\n",
       "      <td>7900.0</td>\n",
       "      <td>6.485</td>\n",
       "      <td>41600</td>\n",
       "      <td>0.278846</td>\n",
       "      <td>2</td>\n",
       "      <td>0</td>\n",
       "      <td>11600</td>\n",
       "    </tr>\n",
       "    <tr>\n",
       "      <th>7789</th>\n",
       "      <td>10500.0</td>\n",
       "      <td>7.607</td>\n",
       "      <td>52200</td>\n",
       "      <td>0.425287</td>\n",
       "      <td>4</td>\n",
       "      <td>1</td>\n",
       "      <td>22200</td>\n",
       "    </tr>\n",
       "    <tr>\n",
       "      <th>10760</th>\n",
       "      <td>10100.0</td>\n",
       "      <td>7.430</td>\n",
       "      <td>50500</td>\n",
       "      <td>0.405941</td>\n",
       "      <td>4</td>\n",
       "      <td>1</td>\n",
       "      <td>20500</td>\n",
       "    </tr>\n",
       "    <tr>\n",
       "      <th>73493</th>\n",
       "      <td>9500.0</td>\n",
       "      <td>7.169</td>\n",
       "      <td>48100</td>\n",
       "      <td>0.376299</td>\n",
       "      <td>4</td>\n",
       "      <td>0</td>\n",
       "      <td>18100</td>\n",
       "    </tr>\n",
       "    <tr>\n",
       "      <th>49005</th>\n",
       "      <td>8600.0</td>\n",
       "      <td>6.776</td>\n",
       "      <td>44400</td>\n",
       "      <td>0.324324</td>\n",
       "      <td>3</td>\n",
       "      <td>0</td>\n",
       "      <td>14400</td>\n",
       "    </tr>\n",
       "    <tr>\n",
       "      <th>39030</th>\n",
       "      <td>10100.0</td>\n",
       "      <td>7.414</td>\n",
       "      <td>50400</td>\n",
       "      <td>0.404762</td>\n",
       "      <td>4</td>\n",
       "      <td>1</td>\n",
       "      <td>20400</td>\n",
       "    </tr>\n",
       "    <tr>\n",
       "      <th>9743</th>\n",
       "      <td>10700.0</td>\n",
       "      <td>7.677</td>\n",
       "      <td>52800</td>\n",
       "      <td>0.431818</td>\n",
       "      <td>5</td>\n",
       "      <td>1</td>\n",
       "      <td>22800</td>\n",
       "    </tr>\n",
       "    <tr>\n",
       "      <th>56241</th>\n",
       "      <td>10200.0</td>\n",
       "      <td>7.480</td>\n",
       "      <td>51000</td>\n",
       "      <td>0.411765</td>\n",
       "      <td>4</td>\n",
       "      <td>1</td>\n",
       "      <td>21000</td>\n",
       "    </tr>\n",
       "    <tr>\n",
       "      <th>30577</th>\n",
       "      <td>8600.0</td>\n",
       "      <td>6.799</td>\n",
       "      <td>44600</td>\n",
       "      <td>0.327354</td>\n",
       "      <td>3</td>\n",
       "      <td>0</td>\n",
       "      <td>14600</td>\n",
       "    </tr>\n",
       "    <tr>\n",
       "      <th>60206</th>\n",
       "      <td>11400.0</td>\n",
       "      <td>7.956</td>\n",
       "      <td>55500</td>\n",
       "      <td>0.459459</td>\n",
       "      <td>5</td>\n",
       "      <td>1</td>\n",
       "      <td>25500</td>\n",
       "    </tr>\n",
       "  </tbody>\n",
       "</table>\n",
       "</div>"
      ],
      "text/plain": [
       "       loan_size  interest_rate  borrower_income  debt_to_income  \\\n",
       "43735     7900.0          6.485            41600        0.278846   \n",
       "7789     10500.0          7.607            52200        0.425287   \n",
       "10760    10100.0          7.430            50500        0.405941   \n",
       "73493     9500.0          7.169            48100        0.376299   \n",
       "49005     8600.0          6.776            44400        0.324324   \n",
       "39030    10100.0          7.414            50400        0.404762   \n",
       "9743     10700.0          7.677            52800        0.431818   \n",
       "56241    10200.0          7.480            51000        0.411765   \n",
       "30577     8600.0          6.799            44600        0.327354   \n",
       "60206    11400.0          7.956            55500        0.459459   \n",
       "\n",
       "       num_of_accounts  derogatory_marks  total_debt  \n",
       "43735                2                 0       11600  \n",
       "7789                 4                 1       22200  \n",
       "10760                4                 1       20500  \n",
       "73493                4                 0       18100  \n",
       "49005                3                 0       14400  \n",
       "39030                4                 1       20400  \n",
       "9743                 5                 1       22800  \n",
       "56241                4                 1       21000  \n",
       "30577                3                 0       14600  \n",
       "60206                5                 1       25500  "
      ]
     },
     "execution_count": 5,
     "metadata": {},
     "output_type": "execute_result"
    }
   ],
   "source": [
    "# Review the X variable DataFrame\n",
    "\n",
    "X.sample(10, random_state = 123)"
   ]
  },
  {
   "cell_type": "markdown",
   "metadata": {},
   "source": [
    "### Step 3: Check the balance of the labels variable (`y`) by using the `value_counts` function."
   ]
  },
  {
   "cell_type": "code",
   "execution_count": 6,
   "metadata": {},
   "outputs": [
    {
     "data": {
      "text/plain": [
       "0    75036\n",
       "1     2500\n",
       "Name: loan_status, dtype: int64"
      ]
     },
     "execution_count": 6,
     "metadata": {},
     "output_type": "execute_result"
    }
   ],
   "source": [
    "# Check the balance of our target values\n",
    "\n",
    "y.value_counts()"
   ]
  },
  {
   "cell_type": "markdown",
   "metadata": {},
   "source": [
    "### Step 4: Split the data into training and testing datasets by using `train_test_split`."
   ]
  },
  {
   "cell_type": "code",
   "execution_count": 7,
   "metadata": {},
   "outputs": [],
   "source": [
    "# Import the train_test_learn module\n",
    "from sklearn.model_selection import train_test_split\n",
    "\n",
    "# Split the data using train_test_split\n",
    "# Assign a random_state of 1 to the function\n",
    "x_train, x_test, y_train, y_test = train_test_split(X, y, random_state=1)"
   ]
  },
  {
   "cell_type": "markdown",
   "metadata": {},
   "source": [
    "---"
   ]
  },
  {
   "cell_type": "markdown",
   "metadata": {},
   "source": [
    "## Create a Logistic Regression Model with the Original Data"
   ]
  },
  {
   "cell_type": "markdown",
   "metadata": {},
   "source": [
    "###  Step 1: Fit a logistic regression model by using the training data (`X_train` and `y_train`)."
   ]
  },
  {
   "cell_type": "code",
   "execution_count": 8,
   "metadata": {},
   "outputs": [
    {
     "data": {
      "text/plain": [
       "LogisticRegression(random_state=1)"
      ]
     },
     "execution_count": 8,
     "metadata": {},
     "output_type": "execute_result"
    }
   ],
   "source": [
    "# Import the LogisticRegression module from SKLearn\n",
    "from sklearn.linear_model import LogisticRegression\n",
    "\n",
    "# Instantiate the Logistic Regression model\n",
    "# Assign a random_state parameter of 1 to the model\n",
    "log_reg_model = LogisticRegression(random_state = 1)\n",
    "\n",
    "# Fit the model using training data\n",
    "log_reg_model.fit(x_train, y_train)"
   ]
  },
  {
   "cell_type": "markdown",
   "metadata": {},
   "source": [
    "### Step 2: Save the predictions on the testing data labels by using the testing feature data (`X_test`) and the fitted model."
   ]
  },
  {
   "cell_type": "code",
   "execution_count": 9,
   "metadata": {},
   "outputs": [],
   "source": [
    "# Make a prediction using the testing data\n",
    "\n",
    "prediction = log_reg_model.predict(x_test)"
   ]
  },
  {
   "cell_type": "markdown",
   "metadata": {},
   "source": [
    "### Step 3: Evaluate the model’s performance by doing the following:\n",
    "\n",
    "* Calculate the accuracy score of the model.\n",
    "\n",
    "* Generate a confusion matrix.\n",
    "\n",
    "* Print the classification report."
   ]
  },
  {
   "cell_type": "code",
   "execution_count": 10,
   "metadata": {},
   "outputs": [
    {
     "name": "stdout",
     "output_type": "stream",
     "text": [
      "0.952\n"
     ]
    }
   ],
   "source": [
    "# Print the balanced_accuracy score of the model\n",
    "\n",
    "print(round(balanced_accuracy_score(y_test, prediction), 3))"
   ]
  },
  {
   "cell_type": "code",
   "execution_count": 11,
   "metadata": {},
   "outputs": [
    {
     "name": "stdout",
     "output_type": "stream",
     "text": [
      "0.992\n"
     ]
    }
   ],
   "source": [
    "# Print the accuracy score of the model\n",
    "\n",
    "print(round(accuracy_score(y_test, prediction), 3))"
   ]
  },
  {
   "cell_type": "code",
   "execution_count": 12,
   "metadata": {},
   "outputs": [
    {
     "name": "stdout",
     "output_type": "stream",
     "text": [
      "Confusion Matrix: \n",
      " [[18663   102]\n",
      " [   56   563]]\n"
     ]
    }
   ],
   "source": [
    "# Generate a confusion matrix for the model\n",
    "\n",
    "conf_matrix = confusion_matrix(y_test, prediction)\n",
    "\n",
    "print('Confusion Matrix: \\n',conf_matrix)"
   ]
  },
  {
   "cell_type": "code",
   "execution_count": 13,
   "metadata": {},
   "outputs": [
    {
     "name": "stdout",
     "output_type": "stream",
     "text": [
      "              precision    recall  f1-score   support\n",
      "\n",
      "           0       1.00      0.99      1.00     18765\n",
      "           1       0.85      0.91      0.88       619\n",
      "\n",
      "    accuracy                           0.99     19384\n",
      "   macro avg       0.92      0.95      0.94     19384\n",
      "weighted avg       0.99      0.99      0.99     19384\n",
      "\n"
     ]
    }
   ],
   "source": [
    "# Print the classification report for the model\n",
    "print(classification_report(y_test, prediction))"
   ]
  },
  {
   "cell_type": "markdown",
   "metadata": {},
   "source": [
    "### Step 4: Answer the following question."
   ]
  },
  {
   "cell_type": "markdown",
   "metadata": {},
   "source": [
    "**Question:** How well does the logistic regression model predict both the `0` (healthy loan) and `1` (high-risk loan) labels?\n",
    "\n",
    "**Answer:** In comparison to the original dataset, similarly the number of healthy loans is greater than the number of unhealthy loans. The model has a good accuracy model of `99%`, the precision score for `0` (healthy loans) is `100%` and the precision for `1` labels is not bad at `85%`. The recall score is also quite high at `99%` for prediction of 0 labels and `91%` for high-risk loans with the label `1`."
   ]
  },
  {
   "cell_type": "markdown",
   "metadata": {},
   "source": [
    "---"
   ]
  },
  {
   "cell_type": "markdown",
   "metadata": {},
   "source": [
    "## Predict a Logistic Regression Model with Resampled Training Data"
   ]
  },
  {
   "cell_type": "markdown",
   "metadata": {},
   "source": [
    "### Step 1: Use the `RandomOverSampler` module from the imbalanced-learn library to resample the data. Be sure to confirm that the labels have an equal number of data points. "
   ]
  },
  {
   "cell_type": "code",
   "execution_count": 14,
   "metadata": {},
   "outputs": [],
   "source": [
    "# Import the RandomOverSampler module form imbalanced-learn\n",
    "from imblearn.over_sampling import RandomOverSampler\n",
    "\n",
    "# Instantiate the random oversampler model\n",
    "# # Assign a random_state parameter of 1 to the model\n",
    "randover_model = RandomOverSampler(random_state = 1)\n",
    "\n",
    "# Fit the original training data to the random_oversampler model\n",
    "x_resampled, y_resampled = randover_model.fit_resample(x_train, y_train)"
   ]
  },
  {
   "cell_type": "code",
   "execution_count": 15,
   "metadata": {},
   "outputs": [
    {
     "data": {
      "text/plain": [
       "0    56271\n",
       "1    56271\n",
       "Name: loan_status, dtype: int64"
      ]
     },
     "execution_count": 15,
     "metadata": {},
     "output_type": "execute_result"
    }
   ],
   "source": [
    "# Count the distinct values of the resampled labels data\n",
    "\n",
    "y_resampled.value_counts()"
   ]
  },
  {
   "cell_type": "markdown",
   "metadata": {},
   "source": [
    "### Step 2: Use the `LogisticRegression` classifier and the resampled data to fit the model and make predictions."
   ]
  },
  {
   "cell_type": "code",
   "execution_count": 16,
   "metadata": {},
   "outputs": [],
   "source": [
    "# Instantiate the Logistic Regression model\n",
    "# Assign a random_state parameter of 1 to the model\n",
    "resampled_log_reg_model = LogisticRegression(random_state = 1)\n",
    "\n",
    "# Fit the model using the resampled training data\n",
    "resampled_log_reg_model.fit(x_resampled, y_resampled)\n",
    "\n",
    "# Make a prediction using the testing data\n",
    "resampled_prediction = resampled_log_reg_model.predict(x_test)"
   ]
  },
  {
   "cell_type": "markdown",
   "metadata": {},
   "source": [
    "### Step 3: Evaluate the model’s performance by doing the following:\n",
    "\n",
    "* Calculate the accuracy score of the model.\n",
    "\n",
    "* Generate a confusion matrix.\n",
    "\n",
    "* Print the classification report."
   ]
  },
  {
   "cell_type": "code",
   "execution_count": 17,
   "metadata": {},
   "outputs": [
    {
     "name": "stdout",
     "output_type": "stream",
     "text": [
      "0.994\n"
     ]
    }
   ],
   "source": [
    "# Print the balanced_accuracy score of the model \n",
    "\n",
    "print(round(balanced_accuracy_score(y_test, resampled_prediction), 3))"
   ]
  },
  {
   "cell_type": "code",
   "execution_count": 18,
   "metadata": {},
   "outputs": [
    {
     "name": "stdout",
     "output_type": "stream",
     "text": [
      "0.994\n"
     ]
    }
   ],
   "source": [
    "# Print the accuracy score of the model \n",
    "\n",
    "print(round(accuracy_score(y_test, resampled_prediction), 3))"
   ]
  },
  {
   "cell_type": "code",
   "execution_count": 19,
   "metadata": {},
   "outputs": [
    {
     "name": "stdout",
     "output_type": "stream",
     "text": [
      "Confusion Matrix: \n",
      " [[18649   116]\n",
      " [    4   615]]\n"
     ]
    }
   ],
   "source": [
    "# Generate a confusion matrix for the model\n",
    "\n",
    "print('Confusion Matrix: \\n', confusion_matrix(y_test, resampled_prediction))"
   ]
  },
  {
   "cell_type": "code",
   "execution_count": 20,
   "metadata": {},
   "outputs": [
    {
     "name": "stdout",
     "output_type": "stream",
     "text": [
      "Classification Report: \n",
      "               precision    recall  f1-score   support\n",
      "\n",
      "           0       1.00      0.99      1.00     18765\n",
      "           1       0.84      0.99      0.91       619\n",
      "\n",
      "    accuracy                           0.99     19384\n",
      "   macro avg       0.92      0.99      0.95     19384\n",
      "weighted avg       0.99      0.99      0.99     19384\n",
      "\n"
     ]
    }
   ],
   "source": [
    "# Print the classification report for the model\n",
    "\n",
    "print('Classification Report: \\n', classification_report(y_test, resampled_prediction))"
   ]
  },
  {
   "cell_type": "markdown",
   "metadata": {},
   "source": [
    "### Step 4: Answer the following question"
   ]
  },
  {
   "cell_type": "markdown",
   "metadata": {},
   "source": [
    "**Question:** How well does the logistic regression model, fit with oversampled data, predict both the `0` (healthy loan) and `1` (high-risk loan) labels?\n",
    "\n",
    "**Answer:** The accuracy score for both prediction models is quite high at `99%`. Looking at the confusion matrix, the oversampled data model did significantly better at predicting false negatives, meaning only `4` loans of `0` type were identified as false negative. Similar to the previous model, the precision score for `0` loans was 100% and `84%` to loan `type 1`. The recall score improved for unhealthy loans compared to the previous model. Overall,the original model was quite accurate but this model with oversampled data seems to be slightly better at predicting more accurately."
   ]
  },
  {
   "cell_type": "markdown",
   "metadata": {},
   "source": [
    "---"
   ]
  },
  {
   "cell_type": "markdown",
   "metadata": {},
   "source": [
    "# Module 20 Report\n",
    "\n",
    "\n",
    "## Overview of the Analysis\n",
    "\n",
    "In this section, describe the analysis you completed for the machine learning models used in this Challenge. This might include:\n",
    "\n",
    "* Explain the purpose of the analysis.\n",
    "\n",
    "    * **The purpose of this analysis is to train and evaluate a model based on loan risk in order to identify the reliability of borrowers or mortgagors.**\n",
    "\n",
    "\n",
    "* Explain what financial information the data was on, and what you needed to predict.\n",
    "    * **The financial data described loan details like loan size, interest rate, borrower income, loan status, etc. In order to create a prediction, the data was split into training and testing datasets, a logistic regression model was created, the model was fit using training data, and then `.predict()` was used on the test data.**\n",
    "\n",
    "\n",
    "* Provide basic information about the variables you were trying to predict (e.g., `value_counts`).\n",
    "    * **The `y` values, or loan status of individuals in the dataset are what we want to predict. In this case, `0` indicates a healthy loan while `1` indicates a high risk loan. the `.value_counts()` tells us that there are `75036` healthy loans and `2500` high risk loans in this dataset.**\n",
    "\n",
    "\n",
    "* Describe the stages of the machine learning process you went through as part of this analysis.\n",
    "    * **To start, the data was split into training and testing sets, next, `X` and `y` variables were created and the data was split using `train_test_split()`, then a logistic regression model was created with the original data and fit using the training data. Predictions were made next and then the models performance was tested by calculating the `accuracy score`, generating a `confusion matrix`, and printing a `classification report`. After this, a logistic regression model was predicted with resampled training data using the `RandomOverSampler()` module and repeating the previous process, only this time using that resampled data.**\n",
    "\n",
    "\n",
    "* Briefly touch on any methods you used (e.g., `LogisticRegression`, or any resampling method).\n",
    "    * **The logistic regression module was used to aid predictions throughout the analysis, and the `RandomOverSampler()` was used to create resampled data. This allowed the original training data to be fit to the newly created model where further predictions and performance could be evaluated.**\n",
    "\n",
    "## Results\n",
    "\n",
    "Using bulleted lists, describe the balanced accuracy scores and the precision and recall scores of all machine learning models.\n",
    "\n",
    "* Machine Learning ***`Model 1`***:\n",
    "\n",
    "    * Description of ***`Model 1`*** `Accuracy`, `Precision`, and `Recall` scores.\n",
    "    \n",
    "    * Balanced Accuracy score: `95% or 0.952` which is good!\n",
    "    \n",
    "    * Accuracy Score: `99% or 0.992` which is really good!\n",
    "    \n",
    "    * Healthy loans see ideal `precision` and `f1-scores` at `100%`, while recall is at `99%`.\n",
    "    \n",
    "    * High-risk loans' precision is `15%` lower than healthy loans\n",
    "    \n",
    "    * High-risk loans are also at lower `recall` and `f1-score` values than the healthy loans with `8%` and `2%` variations (respectively)\n",
    "\n",
    "\n",
    "* Machine Learning ***`Model 2`***:\n",
    "    * Description of ***`Model 2`*** `Accuracy`, `Precision`, and `Recall` scores.\n",
    "    \n",
    "    * Balanced Accuracy score: `99% or 0.994` which is really good!\n",
    "    \n",
    "    * Accuracy score: `99% or 0.994` which is also really good!\n",
    "    \n",
    "    * `Precison`, `recall`, and `f1-score` have remained the same for healthy loans.\n",
    "    \n",
    "    * High-risk loans experienced general increase in `recall` and `f1-score`- `8%` and `3%` (respectively)\n",
    "    \n",
    "    * High-risk loans experienced a decrease in precision by `1%`.\n",
    "\n",
    "## Summary\n",
    "\n",
    "Summarize the results of the machine learning models, and include a recommendation on the model to use, if any. For example:\n",
    "\n",
    "* Which one seems to perform best? How do you know it performs best?\n",
    "    * **It seems that Machine Learning *`Model 2`* performs the best because we see a general increase in recall and f1 scores, and even the macro average. Accuracy is at `99%` for both models, but if one must choose, then the inceases do indicate *`Model 2`* as the better performing model.**\n",
    "\n",
    "* Does performance depend on the problem we are trying to solve? (For example, is it more important to predict the `1`'s, or predict the `0`'s? )\n",
    "    * **It is important to predict both the ones and zeros in order to determine a the creditworthiness of borrowers. Being able to compare the two allows for well-rounded predictions and conclusions to be made.**"
   ]
  },
  {
   "cell_type": "markdown",
   "metadata": {},
   "source": [
    "---"
   ]
  }
 ],
 "metadata": {
  "kernelspec": {
   "display_name": "Python 3 (ipykernel)",
   "language": "python",
   "name": "python3"
  },
  "language_info": {
   "codemirror_mode": {
    "name": "ipython",
    "version": 3
   },
   "file_extension": ".py",
   "mimetype": "text/x-python",
   "name": "python",
   "nbconvert_exporter": "python",
   "pygments_lexer": "ipython3",
   "version": "3.9.13"
  },
  "vscode": {
   "interpreter": {
    "hash": "31f2aee4e71d21fbe5cf8b01ff0e069b9275f58929596ceb00d14d90e3e16cd6"
   }
  }
 },
 "nbformat": 4,
 "nbformat_minor": 4
}
